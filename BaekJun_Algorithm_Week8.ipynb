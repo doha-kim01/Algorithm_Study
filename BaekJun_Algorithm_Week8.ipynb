{
 "cells": [
  {
   "cell_type": "code",
   "execution_count": null,
   "metadata": {},
   "outputs": [],
   "source": [
    "#1463 1로 만들기\n",
    "n = int(input())\n",
    "dp = [0] * (n+1)\n",
    "for i in range(2, n+1):\n",
    "    dp[i] = dp[i-1] + 1\n",
    "\n",
    "    if i % 2 == 0:\n",
    "        dp[i] = min(dp[i], dp[i//2]+1)\n",
    "    if i % 3 == 0:\n",
    "        dp[i] = min(dp[i], dp[i//3] + 1)\n",
    "print(dp[n])"
   ]
  },
  {
   "cell_type": "code",
   "execution_count": null,
   "metadata": {},
   "outputs": [],
   "source": [
    "#9095 1,2,3 더하기\n",
    "T = int(input())\n",
    "\n",
    "def sol(n):\n",
    "  if n == 1:\n",
    "    return 1\n",
    "  elif n == 2:\n",
    "    return 2\n",
    "  elif n == 3:\n",
    "    return 4\n",
    "  else:\n",
    "    return sol(n-1) + sol(n-2) + sol(n-3)\n",
    "\n",
    "for i in range(T):\n",
    "  N = int(input())\n",
    "  print(sol(N))"
   ]
  },
  {
   "cell_type": "code",
   "execution_count": null,
   "metadata": {},
   "outputs": [],
   "source": [
    "#2225 합분해\n",
    "import sys\n",
    "\n",
    "n, k = map(int, sys.stdin.readline().split())\n",
    "dp = [[0] * 201 for _ in range(201)]\n",
    "\n",
    "# 점화식 : dp[i][j] = dp[i][j - 1] + dp[i - 1][j]\n",
    "\n",
    "# 초기 세팅\n",
    "for x in range(201):\n",
    "    # 1개 수로 x를 만드는 경우의 수\n",
    "    dp[1][x] = 1 # 자기 자신뿐\n",
    "\n",
    "    # 2개의 수로 x를 만드는 경우의 수\n",
    "    dp[2][x] = x + 1\n",
    "\n",
    "\n",
    "# 반복문을 통해 점화식 수행\n",
    "for i in range(2, 201):\n",
    "    # i개로 1을 만드는 경우의 수 i개\n",
    "    dp[i][1] = i\n",
    "\n",
    "    for j in range(2, 201):\n",
    "        dp[i][j] = (dp[i][j - 1] + dp[i - 1][j]) % 1000000000\n",
    "\n",
    "\n",
    "print(dp[k][n])"
   ]
  }
 ],
 "metadata": {
  "language_info": {
   "name": "python"
  },
  "orig_nbformat": 4
 },
 "nbformat": 4,
 "nbformat_minor": 2
}
