{
 "cells": [
  {
   "cell_type": "code",
   "execution_count": null,
   "metadata": {},
   "outputs": [],
   "source": [
    "#1000\n",
    "while (True):\n",
    "  num = input()\n",
    "  A = int(num[0])\n",
    "  B = int(num[-1])\n",
    "  if (0<A and A<10) and (0<B and B<10) :\n",
    "    print(A+B)\n",
    "    break"
   ]
  },
  {
   "cell_type": "code",
   "execution_count": null,
   "metadata": {},
   "outputs": [],
   "source": [
    "#18108\n",
    "while (True):\n",
    "  y = int(input())\n",
    "  if (1000 <= y) and (y <= 3000):\n",
    "    print(y-543)\n",
    "    break"
   ]
  },
  {
   "cell_type": "code",
   "execution_count": null,
   "metadata": {},
   "outputs": [],
   "source": [
    "\n",
    "#14681\n",
    "while(True):\n",
    "  x = int(input())\n",
    "  y = int(input())\n",
    "  if x*y > 0:\n",
    "    if y > 0:\n",
    "      print(1)\n",
    "    else :\n",
    "      print(3)\n",
    "  if x*y < 0:\n",
    "    if y > 0:\n",
    "      print(2)\n",
    "    else :\n",
    "      print(4)\n",
    "  if(-1000 <= x and x <= 1000 and x != 0) and (-1000 <= y and y <= 1000 and y != 0):\n",
    "    break"
   ]
  },
  {
   "cell_type": "code",
   "execution_count": null,
   "metadata": {},
   "outputs": [],
   "source": [
    "#11021\n",
    "T = int(input())\n",
    "for i in range(T):\n",
    "    a,b = map(int, input().split())\n",
    "    ans = a + b\n",
    "    print(\"Case #%s: %s\"%(i+1, ans ))"
   ]
  }
 ],
 "metadata": {
  "kernelspec": {
   "display_name": "Python 3.10.2 64-bit",
   "language": "python",
   "name": "python3"
  },
  "language_info": {
   "name": "python",
   "version": "3.10.2"
  },
  "orig_nbformat": 4,
  "vscode": {
   "interpreter": {
    "hash": "aee8b7b246df8f9039afb4144a1f6fd8d2ca17a180786b69acc140d282b71a49"
   }
  }
 },
 "nbformat": 4,
 "nbformat_minor": 2
}
