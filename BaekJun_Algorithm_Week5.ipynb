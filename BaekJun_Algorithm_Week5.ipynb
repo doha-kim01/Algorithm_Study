{
 "cells": [
  {
   "cell_type": "code",
   "execution_count": null,
   "metadata": {},
   "outputs": [],
   "source": [
    "#1978 소수찾기\n",
    "#나\n",
    "# N = int(input())\n",
    "# N_list = list(map(int, input().split(\" \")))\n",
    "# for i in range(N):\n",
    "#   if N_list[i] == 1:\n",
    "#     N = N - 1\n",
    "#   elif N_list[i] == 2:\n",
    "#     N = N\n",
    "#   else:\n",
    "#     for j in range(3,int((max(N_list)**0.5))+1):\n",
    "#       if N_list[i] % j == 0:\n",
    "#         N = N -1\n",
    "# print(N)\n",
    "\n",
    "N = int(input())\n",
    "N_list = list(map(int, input().split( )))\n",
    "cnt = 0\n",
    "for i in N_list:\n",
    "  for j in range(2, i + 1):\n",
    "    if i % j == 0:\n",
    "      if i == j:\n",
    "        cnt = cnt + 1\n",
    "      break\n",
    "print(cnt)"
   ]
  },
  {
   "cell_type": "code",
   "execution_count": null,
   "metadata": {},
   "outputs": [],
   "source": [
    "#1676 팩토리얼 0의 개수\n",
    "N = int(input())\n",
    "n5 = N // 5\n",
    "n25 = N // 25\n",
    "n125 = N // 125\n",
    "result = n5 + n25 + n125\n",
    "print(result)\n",
    "#https://beginnerdeveloper-lit.tistory.com/18"
   ]
  },
  {
   "cell_type": "code",
   "execution_count": null,
   "metadata": {},
   "outputs": [],
   "source": [
    "#1373 2진수 8진수\n",
    "binary = int(input(),2)\n",
    "#octal = oct(binary) #접두어 붙음\n",
    "print(format(binary, 'o'))"
   ]
  }
 ],
 "metadata": {
  "language_info": {
   "name": "python"
  },
  "orig_nbformat": 4
 },
 "nbformat": 4,
 "nbformat_minor": 2
}
