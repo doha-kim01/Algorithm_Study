{
 "cells": [
  {
   "cell_type": "code",
   "execution_count": null,
   "metadata": {},
   "outputs": [],
   "source": [
    "#Week2\n",
    "#15596\n",
    "def solve(a):\n",
    "  sum = 0\n",
    "  for i in a:\n",
    "    sum = sum + i\n",
    "  return sum\n",
    "a = [1,2,3,4,5]\n",
    "solve(a)"
   ]
  },
  {
   "cell_type": "code",
   "execution_count": null,
   "metadata": {},
   "outputs": [],
   "source": [
    "#1157\n",
    "word = input().upper()\n",
    "word_list = list(set(word))\n",
    "\n",
    "cnt = []\n",
    "for i in word_list:\n",
    "  count = word.count\n",
    "  cnt.append(count(i))\n",
    "\n",
    "if cnt.count(max(cnt)) > 1:\n",
    "  print(\"?\")\n",
    "else:\n",
    "  print(word_list[(cnt.index(max(cnt)))])"
   ]
  },
  {
   "cell_type": "code",
   "execution_count": null,
   "metadata": {},
   "outputs": [],
   "source": [
    "#2775\n",
    "T = int(input())\n",
    "\n",
    "for _ in range(T):\n",
    "  floor = int(input())\n",
    "  rn = int(input())\n",
    "  pp = [i for i in range(1, rn+1)]\n",
    "\n",
    "  for _ in range(floor):\n",
    "    for l in range(1,rn):\n",
    "      pp[l] += pp[l-1]\n",
    "  print(pp[-1])"
   ]
  },
  {
   "cell_type": "code",
   "execution_count": null,
   "metadata": {},
   "outputs": [],
   "source": [
    "#2581\n",
    "M = int(input())\n",
    "N = int(input())\n",
    "prime = []\n",
    "for i in range(M, N+1):\n",
    "    if i != 1:\n",
    "        check = True\n",
    "        for j in range(2, i):\n",
    "            if i % j == 0:\n",
    "                check = False\n",
    "                break\n",
    "        if check:\n",
    "            prime.append(i)\n",
    "if len(prime) == 0:\n",
    "    print(-1)\n",
    "else:\n",
    "    print(sum(prime))\n",
    "    print(prime[0])"
   ]
  }
 ],
 "metadata": {
  "language_info": {
   "name": "python"
  },
  "orig_nbformat": 4
 },
 "nbformat": 4,
 "nbformat_minor": 2
}
