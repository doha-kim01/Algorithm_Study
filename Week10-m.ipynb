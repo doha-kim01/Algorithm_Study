{
  "nbformat": 4,
  "nbformat_minor": 0,
  "metadata": {
    "colab": {
      "provenance": [],
      "authorship_tag": "ABX9TyPZsPxBMLWLZpPVnx9ibVdW",
      "include_colab_link": true
    },
    "kernelspec": {
      "name": "python3",
      "display_name": "Python 3"
    },
    "language_info": {
      "name": "python"
    }
  },
  "cells": [
    {
      "cell_type": "markdown",
      "metadata": {
        "id": "view-in-github",
        "colab_type": "text"
      },
      "source": [
        "<a href=\"https://colab.research.google.com/github/doha-kim01/Algorithm_Study/blob/main/Week10-m.ipynb\" target=\"_parent\"><img src=\"https://colab.research.google.com/assets/colab-badge.svg\" alt=\"Open In Colab\"/></a>"
      ]
    },
    {
      "cell_type": "code",
      "execution_count": null,
      "metadata": {
        "id": "pDHwdHdqVDOC"
      },
      "outputs": [],
      "source": []
    },
    {
      "cell_type": "code",
      "source": [
        "\n",
        "#Week10\n",
        "#6603\n",
        "from itertools import combinations\n",
        "import sys\n",
        "\n",
        "while True:\n",
        "    arr = input().split()\n",
        "    if arr.pop(0) == '0': \n",
        "        break\n",
        "    for i in combinations(arr, 6):\n",
        "        print(\" \".join(i))\n",
        "    print()\n",
        "\n",
        "#14501\n",
        "N = int(input())\n",
        "table = [list(map(int, input().split())) for i in range(N)]\n",
        "dp = [0] * (N+1)\n",
        "\n",
        "for i in range(N-1, -1, -1):\n",
        "\tif table[i][0] + i > N:\n",
        "\t\tdp[i] = dp[i+1]\n",
        "\telse:\n",
        "\t\tdp[i] = max(dp[table[i][0] + i] + table[i][1], dp[i+1])\n",
        "\n",
        "print(dp[0])\n",
        "\n",
        "#1182\n",
        "from itertools import combinations\n",
        "\n",
        "n, s = map(int, input().split())\n",
        "\n",
        "arr = list(map(int, input().split()))\n",
        "\n",
        "cnt = 0\n",
        "\n",
        "for i in range(1, n + 1):\n",
        "\n",
        "    for combi in combinations(arr, i):\n",
        "\n",
        "        if sum(combi) == s:\n",
        "\n",
        "            cnt += 1\n",
        "\n",
        "print(cnt)"
      ],
      "metadata": {
        "id": "NnjZnUL8swXt"
      },
      "execution_count": null,
      "outputs": []
    }
  ]
}