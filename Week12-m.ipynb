{
  "nbformat": 4,
  "nbformat_minor": 0,
  "metadata": {
    "colab": {
      "provenance": [],
      "authorship_tag": "ABX9TyMV7ClbOPKOfe3fMsm46P/7",
      "include_colab_link": true
    },
    "kernelspec": {
      "name": "python3",
      "display_name": "Python 3"
    },
    "language_info": {
      "name": "python"
    }
  },
  "cells": [
    {
      "cell_type": "markdown",
      "metadata": {
        "id": "view-in-github",
        "colab_type": "text"
      },
      "source": [
        "<a href=\"https://colab.research.google.com/github/doha-kim01/Algorithm_Study/blob/Week12/Week12-m.ipynb\" target=\"_parent\"><img src=\"https://colab.research.google.com/assets/colab-badge.svg\" alt=\"Open In Colab\"/></a>"
      ]
    },
    {
      "cell_type": "code",
      "execution_count": null,
      "metadata": {
        "id": "hCZYxb09WhSG"
      },
      "outputs": [],
      "source": [
        "#1697\n",
        "def bfs(a):\n",
        "    queue = deque([(a, 0)])\n",
        "    check = [False] * (100001)\n",
        "    check[a] = True\n",
        "    \n",
        "    while queue:\n",
        "        n, c = queue.popleft()\n",
        "        if n == k:\n",
        "            return c\n",
        "        arr = [n + 1, n - 1, n * 2]\n",
        "        for i in arr:\n",
        "            if 0 <= i < 100001 and not check[i]:\n",
        "                check[i] = True\n",
        "                queue.append((i, c + 1))\n",
        "        \n",
        "from collections import deque\n",
        "n, k = map(int, input().split())\n",
        "print(bfs(n))\n",
        "\n",
        "#1991\n",
        "def pre_order(n):\n",
        "    if n != '.':\n",
        "        print(n, end='')\n",
        "        pre_order(edge[n][0])\n",
        "        pre_order(edge[n][1])\n",
        "\n",
        "\n",
        "def in_order(n):\n",
        "    if n != '.':\n",
        "        in_order(edge[n][0])\n",
        "        print(n, end='')\n",
        "        in_order(edge[n][1])\n",
        "\n",
        "\n",
        "def post_order(n):\n",
        "    if n != '.':\n",
        "        for v in edge[n]:\n",
        "            post_order(v)\n",
        "        print(n, end='')\n",
        "\n",
        "\n",
        "from collections import defaultdict\n",
        "\n",
        "V = int(input())\n",
        "edge = defaultdict(list)\n",
        "\n",
        "for _ in range(V):\n",
        "    parent, *child = input().split()\n",
        "    edge[parent] = child\n",
        "\n",
        "pre_order('A')\n",
        "print()\n",
        "in_order('A')\n",
        "print()\n",
        "post_order('A')\n",
        "\n",
        "#11725\n",
        "import sys\n",
        "def bfs():\n",
        "    q = []\n",
        "    for i in data[1]:\n",
        "        q.append(i)\n",
        "        ans[i]=1\n",
        "    while q:\n",
        "        a = q.pop(0)\n",
        "        if visit[a]==0:\n",
        "            visit[a]=1\n",
        "            for j in data[a]:\n",
        "                if visit[j]==0:\n",
        "                    q.append(j)\n",
        "                    ans[j]=a\n",
        "\n",
        "N = int(input())\n",
        "data = [[] for _ in range(N+1)]\n",
        "for i in range(N-1):\n",
        "    a,b = map(int,sys.stdin.readline().split())\n",
        "    data[a].append(b)\n",
        "    data[b].append(a)\n",
        "ans = [0]*(N+1)\n",
        "visit=[0]*(N+1)\n",
        "bfs()\n",
        "for i in range(2,N+1):\n",
        "    print(ans[i])\n"
      ]
    }
  ]
}